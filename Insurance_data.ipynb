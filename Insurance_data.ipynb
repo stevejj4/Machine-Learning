{
  "nbformat": 4,
  "nbformat_minor": 0,
  "metadata": {
    "colab": {
      "provenance": [],
      "authorship_tag": "ABX9TyNKVbxkN6LiCu4dkIN2oHRD",
      "include_colab_link": true
    },
    "kernelspec": {
      "name": "python3",
      "display_name": "Python 3"
    },
    "language_info": {
      "name": "python"
    }
  },
  "cells": [
    {
      "cell_type": "markdown",
      "metadata": {
        "id": "view-in-github",
        "colab_type": "text"
      },
      "source": [
        "<a href=\"https://colab.research.google.com/github/stevejj4/Machine-Learning/blob/main/Insurance_data.ipynb\" target=\"_parent\"><img src=\"https://colab.research.google.com/assets/colab-badge.svg\" alt=\"Open In Colab\"/></a>"
      ]
    },
    {
      "cell_type": "code",
      "execution_count": 7,
      "metadata": {
        "id": "6bxg0otUW135"
      },
      "outputs": [],
      "source": [
        "from google.colab import auth  # Authorizing Google Colab\n",
        "auth.authenticate_user()\n",
        "import gspread  # Credentials for Google Sheets\n",
        "from google.auth import default\n",
        "\n",
        "creds, _ = default()\n",
        "gc = gspread.authorize(creds)  # Authorizing the connection\n",
        "import pandas as pd\n",
        "\n",
        "# Open the Google Sheet by name\n",
        "worksheet = gc.open('Insurancce_data').sheet1\n",
        "\n",
        "# Get all values in list of rows\n",
        "rows = worksheet.get_all_values()\n",
        "\n",
        "# Create DataFrame and define columns\n",
        "df = pd.DataFrame(rows)\n",
        "df.columns = df.iloc[0]  # Set the first row as column names\n",
        "df = df.iloc[1:]  # Remove the first row"
      ]
    },
    {
      "cell_type": "code",
      "source": [
        "# Convert data types\n",
        "df['Age'] = pd.to_numeric(df['Age'])\n",
        "df['PremiumAmount'] = pd.to_numeric(df['PremiumAmount'])\n",
        "df['PolicyStartDate'] = pd.to_datetime(df['PolicyStartDate'])\n",
        "df['PolicyEndDate'] = pd.to_datetime(df['PolicyEndDate'])\n"
      ],
      "metadata": {
        "id": "qnbgNiRDZJmt"
      },
      "execution_count": null,
      "outputs": []
    }
  ]
}