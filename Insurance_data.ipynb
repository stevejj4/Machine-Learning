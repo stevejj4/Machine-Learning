{
  "nbformat": 4,
  "nbformat_minor": 0,
  "metadata": {
    "colab": {
      "provenance": [],
      "authorship_tag": "ABX9TyPJbn7kOoUm1xLUtlMtPu2V",
      "include_colab_link": true
    },
    "kernelspec": {
      "name": "python3",
      "display_name": "Python 3"
    },
    "language_info": {
      "name": "python"
    }
  },
  "cells": [
    {
      "cell_type": "markdown",
      "metadata": {
        "id": "view-in-github",
        "colab_type": "text"
      },
      "source": [
        "<a href=\"https://colab.research.google.com/github/stevejj4/Machine-Learning/blob/main/Insurance_data.ipynb\" target=\"_parent\"><img src=\"https://colab.research.google.com/assets/colab-badge.svg\" alt=\"Open In Colab\"/></a>"
      ]
    },
    {
      "cell_type": "code",
      "execution_count": 1,
      "metadata": {
        "id": "6bxg0otUW135"
      },
      "outputs": [],
      "source": [
        "#!pip install google-cloud-bigquery pandas\n"
      ]
    },
    {
      "cell_type": "code",
      "source": [
        "from google.colab import auth\n",
        "auth.authenticate_user()\n",
        "\n",
        "from google.cloud import bigquery\n",
        "import pandas as pd\n",
        "\n",
        "# Replace with your project ID\n",
        "project_id = 'river-messenger-430112-e1'\n",
        "\n",
        "# Initialize BigQuery client\n",
        "client = bigquery.Client(project=project_id)\n"
      ],
      "metadata": {
        "id": "6jYfKpDnZ-cj"
      },
      "execution_count": 2,
      "outputs": []
    },
    {
      "cell_type": "code",
      "source": [
        "import gspread\n",
        "from google.auth import default\n",
        "\n",
        "# Authenticate and create the gspread client\n",
        "creds, _ = default()\n",
        "gc = gspread.authorize(creds)\n",
        "\n",
        "# Open the Google Sheets by title\n",
        "worksheet_customers = gc.open('Insurance_data').worksheet('Customers')\n",
        "worksheet_policies = gc.open('Insurance_data').worksheet('Policies')\n",
        "worksheet_interactions = gc.open('Insurance_data').worksheet('Interactions')\n",
        "worksheet_claims = gc.open('Insurance_data').worksheet('Claims')\n",
        "\n",
        "# Load the data into pandas DataFrames\n",
        "customers_df = pd.DataFrame(worksheet_customers.get_all_records())\n",
        "policies_df = pd.DataFrame(worksheet_policies.get_all_records())\n",
        "interactions_df = pd.DataFrame(worksheet_interactions.get_all_records())\n",
        "claims_df = pd.DataFrame(worksheet_claims.get_all_records())\n"
      ],
      "metadata": {
        "id": "qnbgNiRDZJmt"
      },
      "execution_count": 3,
      "outputs": []
    },
    {
      "cell_type": "code",
      "source": [
        "def upload_to_bigquery(df, table_name):\n",
        "    dataset_id = 'Insurance_data'  # Correct dataset ID\n",
        "    # Use the `TableReference` class to construct the table ID in the correct format\n",
        "    table_ref = bigquery.TableReference(\n",
        "        bigquery.DatasetReference(project_id, dataset_id), table_name\n",
        "    )\n",
        "\n",
        "    job_config = bigquery.LoadJobConfig(\n",
        "        write_disposition=bigquery.WriteDisposition.WRITE_TRUNCATE,\n",
        "    )\n",
        "\n",
        "    job = client.load_table_from_dataframe(\n",
        "        df, table_ref, job_config=job_config\n",
        "    )\n",
        "\n",
        "    job.result()  # Wait for the job to complete\n",
        "\n",
        "    print(f\"Loaded {job.output_rows} rows into {table_ref}.\")\n",
        "\n",
        "# Upload each DataFrame to BigQuery\n",
        "upload_to_bigquery(customers_df, 'customers')\n",
        "upload_to_bigquery(policies_df, 'policies')\n",
        "upload_to_bigquery(interactions_df, 'interactions')\n",
        "upload_to_bigquery(claims_df, 'claims')"
      ],
      "metadata": {
        "colab": {
          "base_uri": "https://localhost:8080/"
        },
        "id": "1kwaE-HJbBkc",
        "outputId": "dc3170f0-0212-4cce-9bae-e1a964320d3d"
      },
      "execution_count": 5,
      "outputs": [
        {
          "output_type": "stream",
          "name": "stdout",
          "text": [
            "Loaded 2004 rows into river-messenger-430112-e1.Insurance_data.customers.\n",
            "Loaded 2004 rows into river-messenger-430112-e1.Insurance_data.policies.\n",
            "Loaded 5000 rows into river-messenger-430112-e1.Insurance_data.interactions.\n",
            "Loaded 3000 rows into river-messenger-430112-e1.Insurance_data.claims.\n"
          ]
        }
      ]
    }
  ]
}