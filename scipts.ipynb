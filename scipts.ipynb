{
 "cells": [
  {
   "cell_type": "code",
   "execution_count": 4,
   "metadata": {},
   "outputs": [
    {
     "name": "stderr",
     "output_type": "stream",
     "text": [
      "2024-07-21 15:22:33,432 - INFO - Database schema created successfully.\n"
     ]
    }
   ],
   "source": [
    "# Notebook 1: Setup and Configuration\n",
    "\n",
    "import psycopg2\n",
    "import logging\n",
    "\n",
    "# Set up logging\n",
    "logging.basicConfig(level=logging.INFO, format='%(asctime)s - %(levelname)s - %(message)s')\n",
    "\n",
    "# Database connection details\n",
    "db_config = {\n",
    "    'dbname': 'InsuranceDB',\n",
    "    'user': 'postgres',\n",
    "    'password': '5@Rosary',\n",
    "    'host': 'localhost',\n",
    "    'port': '5432'\n",
    "}\n",
    "\n",
    "def create_database_schema():\n",
    "    conn = psycopg2.connect(**db_config)\n",
    "    cursor = conn.cursor()\n",
    "    try:\n",
    "        cursor.execute(\"\"\"\n",
    "        -- Create customers table\n",
    "        CREATE TABLE IF NOT EXISTS customers (\n",
    "            customerid UUID PRIMARY KEY,\n",
    "            age INT,\n",
    "            gender VARCHAR(10),\n",
    "            region VARCHAR(50)\n",
    "        );\n",
    "\n",
    "        -- Create policies table\n",
    "        CREATE TABLE IF NOT EXISTS policies (\n",
    "            policyid UUID PRIMARY KEY,\n",
    "            customerid UUID REFERENCES customers(customerid),\n",
    "            policytype VARCHAR(50),\n",
    "            policystartdate DATE,\n",
    "            policyenddate DATE,\n",
    "            premiumamount FLOAT\n",
    "        );\n",
    "\n",
    "        -- Create interactions table\n",
    "        CREATE TABLE IF NOT EXISTS interactions (\n",
    "            interactionid UUID PRIMARY KEY,\n",
    "            customerid UUID REFERENCES customers(customerid),\n",
    "            interactiondate DATE,\n",
    "            interactiontype VARCHAR(50),\n",
    "            interactionoutcome VARCHAR(100)\n",
    "        );\n",
    "\n",
    "        -- Create claims table\n",
    "        CREATE TABLE IF NOT EXISTS claims (\n",
    "            claimid UUID PRIMARY KEY,\n",
    "            customerid UUID REFERENCES customers(customerid),\n",
    "            claimdate DATE,\n",
    "            claimamount FLOAT,\n",
    "            claimstatus VARCHAR(50)\n",
    "        );\n",
    "        \"\"\")\n",
    "        conn.commit()\n",
    "        logging.info(\"Database schema created successfully.\")\n",
    "    except Exception as e:\n",
    "        logging.error(f\"An error occurred: {e}\")\n",
    "    finally:\n",
    "        cursor.close()\n",
    "        conn.close()\n",
    "\n",
    "create_database_schema()\n"
   ]
  },
  {
   "cell_type": "code",
   "execution_count": 5,
   "metadata": {},
   "outputs": [
    {
     "name": "stderr",
     "output_type": "stream",
     "text": [
      "2024-07-21 15:26:56,743 - INFO - Data loaded and UUIDs generated successfully.\n"
     ]
    }
   ],
   "source": [
    "# Notebook 2: Data Loading and UUID Generation\n",
    "\n",
    "import pandas as pd\n",
    "import uuid\n",
    "import logging\n",
    "\n",
    "# Set up logging\n",
    "logging.basicConfig(level=logging.INFO, format='%(asctime)s - %(levelname)s - %(message)s')\n",
    "\n",
    "def generate_uuid():\n",
    "    return str(uuid.uuid4())\n",
    "\n",
    "def generate_uuids(df, uuid_column_name):\n",
    "    if uuid_column_name not in df.columns:\n",
    "        df[uuid_column_name] = df.apply(lambda _: generate_uuid(), axis=1)\n",
    "    return df\n",
    "\n",
    "# File path\n",
    "file_path = 'C:/Users/SHOFCO SUN/Dataproject/Insurance/Data/insurance_data.xlsx'\n",
    "\n",
    "# Load data from Excel\n",
    "df_customers = pd.read_excel(file_path, sheet_name='Customers')\n",
    "df_policies = pd.read_excel(file_path, sheet_name='Policies')\n",
    "df_interactions = pd.read_excel(file_path, sheet_name='Interactions')\n",
    "df_claims = pd.read_excel(file_path, sheet_name='Claims')\n",
    "\n",
    "# Generate UUIDs if missing\n",
    "df_customers = generate_uuids(df_customers, 'customerid')\n",
    "df_policies = generate_uuids(df_policies, 'policyid')\n",
    "df_interactions = generate_uuids(df_interactions, 'interactionid')\n",
    "df_claims = generate_uuids(df_claims, 'claimid')\n",
    "\n",
    "# Save processed data for further use\n",
    "df_customers.to_csv('processed_customers.csv', index=False)\n",
    "df_policies.to_csv('processed_policies.csv', index=False)\n",
    "df_interactions.to_csv('processed_interactions.csv', index=False)\n",
    "df_claims.to_csv('processed_claims.csv', index=False)\n",
    "\n",
    "logging.info(\"Data loaded and UUIDs generated successfully.\")\n"
   ]
  },
  {
   "cell_type": "code",
   "execution_count": null,
   "metadata": {},
   "outputs": [],
   "source": []
  }
 ],
 "metadata": {
  "kernelspec": {
   "display_name": "Python 3",
   "language": "python",
   "name": "python3"
  },
  "language_info": {
   "codemirror_mode": {
    "name": "ipython",
    "version": 3
   },
   "file_extension": ".py",
   "mimetype": "text/x-python",
   "name": "python",
   "nbconvert_exporter": "python",
   "pygments_lexer": "ipython3",
   "version": "3.11.4"
  }
 },
 "nbformat": 4,
 "nbformat_minor": 2
}
